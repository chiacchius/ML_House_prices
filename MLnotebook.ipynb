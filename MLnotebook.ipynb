{
 "cells": [
  {
   "cell_type": "code",
   "execution_count": 1,
   "metadata": {},
   "outputs": [],
   "source": [
    "import pandas as pd\n",
    "import numpy as np\n"
   ]
  },
  {
   "cell_type": "markdown",
   "metadata": {},
   "source": [
    "Caricamento di Train-test e Test-set"
   ]
  },
  {
   "cell_type": "code",
   "execution_count": 16,
   "metadata": {},
   "outputs": [
    {
     "name": "stdout",
     "output_type": "stream",
     "text": [
      "(1460, 81)\n",
      "(1459, 80)\n"
     ]
    }
   ],
   "source": [
    "trainset = pd.read_csv(\"./house-prices-advanced-regression-techniques/train.csv\")\n",
    "lenght_trainset = trainset.shape\n",
    "print(lenght_trainset)\n",
    "#lenght\n",
    "#trainset\n",
    "testset = pd.read_csv(\"./house-prices-advanced-regression-techniques/test.csv\")\n",
    "lenght_testset = testset.shape\n",
    "print(lenght_testset)\n",
    "#testset"
   ]
  },
  {
   "cell_type": "markdown",
   "metadata": {},
   "source": [
    "L'idea adesso è vedere quali features nel testset non sono presenti nel trainset e viceversa, essendo la dimensione delle colonne diversa"
   ]
  },
  {
   "cell_type": "code",
   "execution_count": 21,
   "metadata": {},
   "outputs": [
    {
     "name": "stdout",
     "output_type": "stream",
     "text": [
      "Columns in trainset but not in testset: ['SalePrice'] \n",
      "\n",
      "Columns in testset but not in trainset: [] \n",
      "\n"
     ]
    }
   ],
   "source": [
    "#check if every feature in trainset is also present in testset and viceversa\n",
    "notInTestset = []\n",
    "notInTrainset = []\n",
    "for x in trainset.columns:\n",
    "    if not testset.columns.__contains__(x):\n",
    "        notInTestset.append(x)\n",
    "print(f\"Columns in trainset but not in testset: {notInTestset} \\n\")\n",
    "for x in testset.columns:\n",
    "    if not trainset.columns.__contains__(x):\n",
    "        notInTrainset.append(x)\n",
    "print(f\"Columns in testset but not in trainset: {notInTrainset} \\n\")\n",
    "        \n"
   ]
  },
  {
   "cell_type": "code",
   "execution_count": null,
   "metadata": {},
   "outputs": [],
   "source": []
  }
 ],
 "metadata": {
  "interpreter": {
   "hash": "5a17c79b23b1b73daa3a91e87bc721932c5c19aa5106d620c8ff34674916aa4a"
  },
  "kernelspec": {
   "display_name": "Python 3.9.7 ('base')",
   "language": "python",
   "name": "python3"
  },
  "language_info": {
   "codemirror_mode": {
    "name": "ipython",
    "version": 3
   },
   "file_extension": ".py",
   "mimetype": "text/x-python",
   "name": "python",
   "nbconvert_exporter": "python",
   "pygments_lexer": "ipython3",
   "version": "3.9.7"
  },
  "orig_nbformat": 4
 },
 "nbformat": 4,
 "nbformat_minor": 2
}
