{
 "cells": [
  {
   "cell_type": "code",
   "execution_count": 135,
   "metadata": {},
   "outputs": [],
   "source": [
    "import pandas as pd\n",
    "import numpy as np\n",
    "import warnings\n",
    "import matplotlib.pyplot as plt\n",
    "from matplotlib import patches\n"
   ]
  },
  {
   "cell_type": "markdown",
   "metadata": {},
   "source": [
    "Caricamento di Train-test e Test-set"
   ]
  },
  {
   "cell_type": "code",
   "execution_count": 155,
   "metadata": {},
   "outputs": [
    {
     "name": "stdout",
     "output_type": "stream",
     "text": [
      "        Id  MSSubClass MSZoning  LotFrontage  LotArea Street Alley LotShape  \\\n",
      "0        1          60       RL         65.0     8450   Pave   NaN      Reg   \n",
      "1        2          20       RL         80.0     9600   Pave   NaN      Reg   \n",
      "2        3          60       RL         68.0    11250   Pave   NaN      IR1   \n",
      "3        4          70       RL         60.0     9550   Pave   NaN      IR1   \n",
      "4        5          60       RL         84.0    14260   Pave   NaN      IR1   \n",
      "...    ...         ...      ...          ...      ...    ...   ...      ...   \n",
      "1455  1456          60       RL         62.0     7917   Pave   NaN      Reg   \n",
      "1456  1457          20       RL         85.0    13175   Pave   NaN      Reg   \n",
      "1457  1458          70       RL         66.0     9042   Pave   NaN      Reg   \n",
      "1458  1459          20       RL         68.0     9717   Pave   NaN      Reg   \n",
      "1459  1460          20       RL         75.0     9937   Pave   NaN      Reg   \n",
      "\n",
      "     LandContour Utilities  ... PoolArea PoolQC  Fence MiscFeature MiscVal  \\\n",
      "0            Lvl    AllPub  ...        0    NaN    NaN         NaN       0   \n",
      "1            Lvl    AllPub  ...        0    NaN    NaN         NaN       0   \n",
      "2            Lvl    AllPub  ...        0    NaN    NaN         NaN       0   \n",
      "3            Lvl    AllPub  ...        0    NaN    NaN         NaN       0   \n",
      "4            Lvl    AllPub  ...        0    NaN    NaN         NaN       0   \n",
      "...          ...       ...  ...      ...    ...    ...         ...     ...   \n",
      "1455         Lvl    AllPub  ...        0    NaN    NaN         NaN       0   \n",
      "1456         Lvl    AllPub  ...        0    NaN  MnPrv         NaN       0   \n",
      "1457         Lvl    AllPub  ...        0    NaN  GdPrv        Shed    2500   \n",
      "1458         Lvl    AllPub  ...        0    NaN    NaN         NaN       0   \n",
      "1459         Lvl    AllPub  ...        0    NaN    NaN         NaN       0   \n",
      "\n",
      "     MoSold YrSold  SaleType  SaleCondition  SalePrice  \n",
      "0         2   2008        WD         Normal     208500  \n",
      "1         5   2007        WD         Normal     181500  \n",
      "2         9   2008        WD         Normal     223500  \n",
      "3         2   2006        WD        Abnorml     140000  \n",
      "4        12   2008        WD         Normal     250000  \n",
      "...     ...    ...       ...            ...        ...  \n",
      "1455      8   2007        WD         Normal     175000  \n",
      "1456      2   2010        WD         Normal     210000  \n",
      "1457      5   2010        WD         Normal     266500  \n",
      "1458      4   2010        WD         Normal     142125  \n",
      "1459      6   2008        WD         Normal     147500  \n",
      "\n",
      "[1460 rows x 81 columns]\n"
     ]
    }
   ],
   "source": [
    "trainset = pd.read_csv(\"./house-prices-advanced-regression-techniques/train.csv\")\n",
    "lenght_trainset = trainset.shape\n",
    "#print(lenght_trainset)\n",
    "#lenght\n",
    "print(trainset)\n",
    "testset = pd.read_csv(\"./house-prices-advanced-regression-techniques/test.csv\")\n",
    "lenght_testset = testset.shape\n",
    "#print(lenght_testset)\n",
    "#testset"
   ]
  },
  {
   "cell_type": "markdown",
   "metadata": {},
   "source": [
    "L'idea adesso è vedere quali features nel testset non sono presenti nel trainset e viceversa, essendo la dimensione delle colonne diversa"
   ]
  },
  {
   "cell_type": "code",
   "execution_count": 137,
   "metadata": {},
   "outputs": [
    {
     "name": "stdout",
     "output_type": "stream",
     "text": [
      "Columns in trainset but not in testset: ['SalePrice'] \n",
      "\n",
      "Columns in testset but not in trainset: [] \n",
      "\n"
     ]
    }
   ],
   "source": [
    "#check if every feature in trainset is also present in testset and viceversa\n",
    "notInTestset = []\n",
    "notInTrainset = []\n",
    "for x in trainset.columns:\n",
    "    if not testset.columns.__contains__(x):\n",
    "        notInTestset.append(x)\n",
    "print(f\"Columns in trainset but not in testset: {notInTestset} \\n\")\n",
    "for x in testset.columns:\n",
    "    if not trainset.columns.__contains__(x):\n",
    "        notInTrainset.append(x)\n",
    "print(f\"Columns in testset but not in trainset: {notInTrainset} \\n\")\n",
    "        \n"
   ]
  },
  {
   "cell_type": "code",
   "execution_count": 138,
   "metadata": {},
   "outputs": [
    {
     "name": "stdout",
     "output_type": "stream",
     "text": [
      "<class 'pandas.core.frame.DataFrame'>\n",
      "RangeIndex: 1460 entries, 0 to 1459\n",
      "Data columns (total 81 columns):\n",
      " #   Column         Non-Null Count  Dtype  \n",
      "---  ------         --------------  -----  \n",
      " 0   Id             1460 non-null   int64  \n",
      " 1   MSSubClass     1460 non-null   int64  \n",
      " 2   MSZoning       1460 non-null   object \n",
      " 3   LotFrontage    1201 non-null   float64\n",
      " 4   LotArea        1460 non-null   int64  \n",
      " 5   Street         1460 non-null   object \n",
      " 6   Alley          91 non-null     object \n",
      " 7   LotShape       1460 non-null   object \n",
      " 8   LandContour    1460 non-null   object \n",
      " 9   Utilities      1460 non-null   object \n",
      " 10  LotConfig      1460 non-null   object \n",
      " 11  LandSlope      1460 non-null   object \n",
      " 12  Neighborhood   1460 non-null   object \n",
      " 13  Condition1     1460 non-null   object \n",
      " 14  Condition2     1460 non-null   object \n",
      " 15  BldgType       1460 non-null   object \n",
      " 16  HouseStyle     1460 non-null   object \n",
      " 17  OverallQual    1460 non-null   int64  \n",
      " 18  OverallCond    1460 non-null   int64  \n",
      " 19  YearBuilt      1460 non-null   int64  \n",
      " 20  YearRemodAdd   1460 non-null   int64  \n",
      " 21  RoofStyle      1460 non-null   object \n",
      " 22  RoofMatl       1460 non-null   object \n",
      " 23  Exterior1st    1460 non-null   object \n",
      " 24  Exterior2nd    1460 non-null   object \n",
      " 25  MasVnrType     1452 non-null   object \n",
      " 26  MasVnrArea     1452 non-null   float64\n",
      " 27  ExterQual      1460 non-null   object \n",
      " 28  ExterCond      1460 non-null   object \n",
      " 29  Foundation     1460 non-null   object \n",
      " 30  BsmtQual       1423 non-null   object \n",
      " 31  BsmtCond       1423 non-null   object \n",
      " 32  BsmtExposure   1422 non-null   object \n",
      " 33  BsmtFinType1   1423 non-null   object \n",
      " 34  BsmtFinSF1     1460 non-null   int64  \n",
      " 35  BsmtFinType2   1422 non-null   object \n",
      " 36  BsmtFinSF2     1460 non-null   int64  \n",
      " 37  BsmtUnfSF      1460 non-null   int64  \n",
      " 38  TotalBsmtSF    1460 non-null   int64  \n",
      " 39  Heating        1460 non-null   object \n",
      " 40  HeatingQC      1460 non-null   object \n",
      " 41  CentralAir     1460 non-null   object \n",
      " 42  Electrical     1459 non-null   object \n",
      " 43  1stFlrSF       1460 non-null   int64  \n",
      " 44  2ndFlrSF       1460 non-null   int64  \n",
      " 45  LowQualFinSF   1460 non-null   int64  \n",
      " 46  GrLivArea      1460 non-null   int64  \n",
      " 47  BsmtFullBath   1460 non-null   int64  \n",
      " 48  BsmtHalfBath   1460 non-null   int64  \n",
      " 49  FullBath       1460 non-null   int64  \n",
      " 50  HalfBath       1460 non-null   int64  \n",
      " 51  BedroomAbvGr   1460 non-null   int64  \n",
      " 52  KitchenAbvGr   1460 non-null   int64  \n",
      " 53  KitchenQual    1460 non-null   object \n",
      " 54  TotRmsAbvGrd   1460 non-null   int64  \n",
      " 55  Functional     1460 non-null   object \n",
      " 56  Fireplaces     1460 non-null   int64  \n",
      " 57  FireplaceQu    770 non-null    object \n",
      " 58  GarageType     1379 non-null   object \n",
      " 59  GarageYrBlt    1379 non-null   float64\n",
      " 60  GarageFinish   1379 non-null   object \n",
      " 61  GarageCars     1460 non-null   int64  \n",
      " 62  GarageArea     1460 non-null   int64  \n",
      " 63  GarageQual     1379 non-null   object \n",
      " 64  GarageCond     1379 non-null   object \n",
      " 65  PavedDrive     1460 non-null   object \n",
      " 66  WoodDeckSF     1460 non-null   int64  \n",
      " 67  OpenPorchSF    1460 non-null   int64  \n",
      " 68  EnclosedPorch  1460 non-null   int64  \n",
      " 69  3SsnPorch      1460 non-null   int64  \n",
      " 70  ScreenPorch    1460 non-null   int64  \n",
      " 71  PoolArea       1460 non-null   int64  \n",
      " 72  PoolQC         7 non-null      object \n",
      " 73  Fence          281 non-null    object \n",
      " 74  MiscFeature    54 non-null     object \n",
      " 75  MiscVal        1460 non-null   int64  \n",
      " 76  MoSold         1460 non-null   int64  \n",
      " 77  YrSold         1460 non-null   int64  \n",
      " 78  SaleType       1460 non-null   object \n",
      " 79  SaleCondition  1460 non-null   object \n",
      " 80  SalePrice      1460 non-null   int64  \n",
      "dtypes: float64(3), int64(35), object(43)\n",
      "memory usage: 924.0+ KB\n",
      "None\n"
     ]
    }
   ],
   "source": [
    "#info of trainset\n",
    "trainset_info = trainset.info()\n",
    "print(trainset_info)\n"
   ]
  },
  {
   "cell_type": "code",
   "execution_count": 139,
   "metadata": {},
   "outputs": [
    {
     "name": "stdout",
     "output_type": "stream",
     "text": [
      "<class 'pandas.core.frame.DataFrame'>\n",
      "RangeIndex: 1459 entries, 0 to 1458\n",
      "Data columns (total 80 columns):\n",
      " #   Column         Non-Null Count  Dtype  \n",
      "---  ------         --------------  -----  \n",
      " 0   Id             1459 non-null   int64  \n",
      " 1   MSSubClass     1459 non-null   int64  \n",
      " 2   MSZoning       1455 non-null   object \n",
      " 3   LotFrontage    1232 non-null   float64\n",
      " 4   LotArea        1459 non-null   int64  \n",
      " 5   Street         1459 non-null   object \n",
      " 6   Alley          107 non-null    object \n",
      " 7   LotShape       1459 non-null   object \n",
      " 8   LandContour    1459 non-null   object \n",
      " 9   Utilities      1457 non-null   object \n",
      " 10  LotConfig      1459 non-null   object \n",
      " 11  LandSlope      1459 non-null   object \n",
      " 12  Neighborhood   1459 non-null   object \n",
      " 13  Condition1     1459 non-null   object \n",
      " 14  Condition2     1459 non-null   object \n",
      " 15  BldgType       1459 non-null   object \n",
      " 16  HouseStyle     1459 non-null   object \n",
      " 17  OverallQual    1459 non-null   int64  \n",
      " 18  OverallCond    1459 non-null   int64  \n",
      " 19  YearBuilt      1459 non-null   int64  \n",
      " 20  YearRemodAdd   1459 non-null   int64  \n",
      " 21  RoofStyle      1459 non-null   object \n",
      " 22  RoofMatl       1459 non-null   object \n",
      " 23  Exterior1st    1458 non-null   object \n",
      " 24  Exterior2nd    1458 non-null   object \n",
      " 25  MasVnrType     1443 non-null   object \n",
      " 26  MasVnrArea     1444 non-null   float64\n",
      " 27  ExterQual      1459 non-null   object \n",
      " 28  ExterCond      1459 non-null   object \n",
      " 29  Foundation     1459 non-null   object \n",
      " 30  BsmtQual       1415 non-null   object \n",
      " 31  BsmtCond       1414 non-null   object \n",
      " 32  BsmtExposure   1415 non-null   object \n",
      " 33  BsmtFinType1   1417 non-null   object \n",
      " 34  BsmtFinSF1     1458 non-null   float64\n",
      " 35  BsmtFinType2   1417 non-null   object \n",
      " 36  BsmtFinSF2     1458 non-null   float64\n",
      " 37  BsmtUnfSF      1458 non-null   float64\n",
      " 38  TotalBsmtSF    1458 non-null   float64\n",
      " 39  Heating        1459 non-null   object \n",
      " 40  HeatingQC      1459 non-null   object \n",
      " 41  CentralAir     1459 non-null   object \n",
      " 42  Electrical     1459 non-null   object \n",
      " 43  1stFlrSF       1459 non-null   int64  \n",
      " 44  2ndFlrSF       1459 non-null   int64  \n",
      " 45  LowQualFinSF   1459 non-null   int64  \n",
      " 46  GrLivArea      1459 non-null   int64  \n",
      " 47  BsmtFullBath   1457 non-null   float64\n",
      " 48  BsmtHalfBath   1457 non-null   float64\n",
      " 49  FullBath       1459 non-null   int64  \n",
      " 50  HalfBath       1459 non-null   int64  \n",
      " 51  BedroomAbvGr   1459 non-null   int64  \n",
      " 52  KitchenAbvGr   1459 non-null   int64  \n",
      " 53  KitchenQual    1458 non-null   object \n",
      " 54  TotRmsAbvGrd   1459 non-null   int64  \n",
      " 55  Functional     1457 non-null   object \n",
      " 56  Fireplaces     1459 non-null   int64  \n",
      " 57  FireplaceQu    729 non-null    object \n",
      " 58  GarageType     1383 non-null   object \n",
      " 59  GarageYrBlt    1381 non-null   float64\n",
      " 60  GarageFinish   1381 non-null   object \n",
      " 61  GarageCars     1458 non-null   float64\n",
      " 62  GarageArea     1458 non-null   float64\n",
      " 63  GarageQual     1381 non-null   object \n",
      " 64  GarageCond     1381 non-null   object \n",
      " 65  PavedDrive     1459 non-null   object \n",
      " 66  WoodDeckSF     1459 non-null   int64  \n",
      " 67  OpenPorchSF    1459 non-null   int64  \n",
      " 68  EnclosedPorch  1459 non-null   int64  \n",
      " 69  3SsnPorch      1459 non-null   int64  \n",
      " 70  ScreenPorch    1459 non-null   int64  \n",
      " 71  PoolArea       1459 non-null   int64  \n",
      " 72  PoolQC         3 non-null      object \n",
      " 73  Fence          290 non-null    object \n",
      " 74  MiscFeature    51 non-null     object \n",
      " 75  MiscVal        1459 non-null   int64  \n",
      " 76  MoSold         1459 non-null   int64  \n",
      " 77  YrSold         1459 non-null   int64  \n",
      " 78  SaleType       1458 non-null   object \n",
      " 79  SaleCondition  1459 non-null   object \n",
      "dtypes: float64(11), int64(26), object(43)\n",
      "memory usage: 912.0+ KB\n",
      "None\n"
     ]
    }
   ],
   "source": [
    "#info of testset\n",
    "testset_info = testset.info()\n",
    "print(testset_info)"
   ]
  },
  {
   "cell_type": "markdown",
   "metadata": {},
   "source": [
    "eliminazione della feature id perchè non rilevante "
   ]
  },
  {
   "cell_type": "code",
   "execution_count": 140,
   "metadata": {},
   "outputs": [
    {
     "name": "stdout",
     "output_type": "stream",
     "text": [
      "1460\n"
     ]
    }
   ],
   "source": [
    "#delete feature \"ID\" from trainset beacause it is not relevant\n",
    "trainset.drop([\"Id\"], axis=\"columns\", inplace=True)\n",
    "\n",
    "#delete feature \"ID\" from testset and save it\n",
    "idList = testset['Id'].tolist()\n",
    "testset.drop(['Id'], axis=\"columns\", inplace=True)\n",
    "print(len(trainset))\n",
    "    "
   ]
  },
  {
   "cell_type": "markdown",
   "metadata": {},
   "source": [
    "Parsing del dataset.\n",
    "features numeriche\n",
    "features categoriche.\n",
    "gestione dei NaN"
   ]
  },
  {
   "cell_type": "code",
   "execution_count": 141,
   "metadata": {},
   "outputs": [],
   "source": [
    "temp_trainset = trainset\n",
    "trainset_num = trainset.select_dtypes(include=[np.number])\n",
    "trainset_obj = temp_trainset.select_dtypes(exclude=[np.number])\n",
    "del(temp_trainset)\n",
    "\n",
    "#print(trainset_obj)\n",
    "temp_testset = testset\n",
    "testset_num = testset.select_dtypes(include=[np.number])\n",
    "testset_obj = temp_testset.select_dtypes(exclude=[np.number])\n",
    "del(temp_testset)\n",
    "\n"
   ]
  },
  {
   "cell_type": "markdown",
   "metadata": {},
   "source": [
    "abbiamo 36 variabili numeriche indipendenti nel testset\n",
    "rimozione delle righe con più del 50% di valori NaN"
   ]
  },
  {
   "cell_type": "code",
   "execution_count": 142,
   "metadata": {},
   "outputs": [
    {
     "name": "stdout",
     "output_type": "stream",
     "text": [
      "1460\n"
     ]
    }
   ],
   "source": [
    "nanPercInARow = []\n",
    "for index, row in trainset.iterrows():\n",
    "    nanPercInARow = trainset.loc[[index]].isna().sum().sum() / len(trainset.columns)\n",
    "    if nanPercInARow > 0.5:\n",
    "        trainset.drop(index, axis=\"rows\", inplace=True)\n",
    "print(len(trainset))\n"
   ]
  },
  {
   "cell_type": "markdown",
   "metadata": {},
   "source": [
    "rimozione delle colonne con più del 95% di valori uguali."
   ]
  },
  {
   "cell_type": "code",
   "execution_count": 144,
   "metadata": {},
   "outputs": [
    {
     "name": "stdout",
     "output_type": "stream",
     "text": [
      "(1460, 67)\n",
      "(1459, 66)\n",
      "(1460, 67)\n",
      "(1459, 66)\n",
      "(1460, 67)\n",
      "(1459, 66)\n",
      "      MSSubClass MSZoning  LotFrontage  LotArea Alley LotShape LandContour  \\\n",
      "0             60       RL         65.0     8450   NaN      Reg         Lvl   \n",
      "1             20       RL         80.0     9600   NaN      Reg         Lvl   \n",
      "2             60       RL         68.0    11250   NaN      IR1         Lvl   \n",
      "3             70       RL         60.0     9550   NaN      IR1         Lvl   \n",
      "4             60       RL         84.0    14260   NaN      IR1         Lvl   \n",
      "...          ...      ...          ...      ...   ...      ...         ...   \n",
      "1455          60       RL         62.0     7917   NaN      Reg         Lvl   \n",
      "1456          20       RL         85.0    13175   NaN      Reg         Lvl   \n",
      "1457          70       RL         66.0     9042   NaN      Reg         Lvl   \n",
      "1458          20       RL         68.0     9717   NaN      Reg         Lvl   \n",
      "1459          20       RL         75.0     9937   NaN      Reg         Lvl   \n",
      "\n",
      "     LotConfig Neighborhood Condition1  ... WoodDeckSF OpenPorchSF  \\\n",
      "0       Inside      CollgCr       Norm  ...          0          61   \n",
      "1          FR2      Veenker      Feedr  ...        298           0   \n",
      "2       Inside      CollgCr       Norm  ...          0          42   \n",
      "3       Corner      Crawfor       Norm  ...          0          35   \n",
      "4          FR2      NoRidge       Norm  ...        192          84   \n",
      "...        ...          ...        ...  ...        ...         ...   \n",
      "1455    Inside      Gilbert       Norm  ...          0          40   \n",
      "1456    Inside       NWAmes       Norm  ...        349           0   \n",
      "1457    Inside      Crawfor       Norm  ...          0          60   \n",
      "1458    Inside        NAmes       Norm  ...        366           0   \n",
      "1459    Inside      Edwards       Norm  ...        736          68   \n",
      "\n",
      "      EnclosedPorch  ScreenPorch  Fence  MoSold YrSold SaleType SaleCondition  \\\n",
      "0                 0            0    NaN       2   2008       WD        Normal   \n",
      "1                 0            0    NaN       5   2007       WD        Normal   \n",
      "2                 0            0    NaN       9   2008       WD        Normal   \n",
      "3               272            0    NaN       2   2006       WD       Abnorml   \n",
      "4                 0            0    NaN      12   2008       WD        Normal   \n",
      "...             ...          ...    ...     ...    ...      ...           ...   \n",
      "1455              0            0    NaN       8   2007       WD        Normal   \n",
      "1456              0            0  MnPrv       2   2010       WD        Normal   \n",
      "1457              0            0  GdPrv       5   2010       WD        Normal   \n",
      "1458            112            0    NaN       4   2010       WD        Normal   \n",
      "1459              0            0    NaN       6   2008       WD        Normal   \n",
      "\n",
      "     SalePrice  \n",
      "0       208500  \n",
      "1       181500  \n",
      "2       223500  \n",
      "3       140000  \n",
      "4       250000  \n",
      "...        ...  \n",
      "1455    175000  \n",
      "1456    210000  \n",
      "1457    266500  \n",
      "1458    142125  \n",
      "1459    147500  \n",
      "\n",
      "[1460 rows x 67 columns]\n"
     ]
    }
   ],
   "source": [
    "#print(trainset.shape)\n",
    "#print(testset.shape)\n",
    "for col in trainset.columns:\n",
    "    if trainset[col].unique().size == 1:\n",
    "        trainset.drop(col, axis=\"columns\", inplace=True)\n",
    "    else:\n",
    "        values = trainset[col].value_counts(dropna=False)\n",
    "        for value in values:\n",
    "            if float(value) > float(len(trainset)) * 0.95:\n",
    "                trainset.drop(col, axis=\"columns\", inplace=True)\n",
    "                testset.drop(col,axis=\"columns\", inplace=True)\n",
    "                break\n",
    "   \n",
    "#print(trainset.shape)     \n",
    "#print(testset.shape)   \n",
    "\n",
    "        \n",
    "            \n",
    "        \n",
    "for col in testset.columns:\n",
    "    if testset[col].unique().size == 1:\n",
    "        testset.drop(col, axis=\"columns\", inplace=True)\n",
    "    else:\n",
    "        values = testset[col].value_counts(dropna=False)\n",
    "        for value in values:\n",
    "            if float(value) > float(len(testset)) * 0.95:\n",
    "                testset.drop(col, axis=\"columns\", inplace=True)\n",
    "                trainset.drop(col,axis=\"columns\", inplace=True)\n",
    "                print(col)\n",
    "                break\n",
    "\n",
    "#print(trainset.shape)     \n",
    "#print(testset.shape)  \n",
    "#print(trainset)"
   ]
  },
  {
   "cell_type": "markdown",
   "metadata": {},
   "source": [
    "Parsing del dataset.\n",
    "features numeriche\n",
    "features categoriche.\n",
    "gestione dei NaN"
   ]
  },
  {
   "cell_type": "code",
   "execution_count": 145,
   "metadata": {},
   "outputs": [
    {
     "name": "stdout",
     "output_type": "stream",
     "text": [
      "(1460, 67)\n",
      "(1460, 67)\n"
     ]
    }
   ],
   "source": [
    "#parsing trainset\n",
    "trainset_num = trainset.select_dtypes(include=[np.number])\n",
    "trainset_obj = trainset.select_dtypes(exclude=[np.number])\n",
    "\n",
    "#parsing testset\n",
    "testset_num = testset.select_dtypes(include=[np.number])\n",
    "testset_obj = testset.select_dtypes(exclude=[np.number])"
   ]
  },
  {
   "cell_type": "markdown",
   "metadata": {},
   "source": [
    "data exploration: correlazione"
   ]
  },
  {
   "cell_type": "code",
   "execution_count": null,
   "metadata": {},
   "outputs": [],
   "source": []
  }
 ],
 "metadata": {
  "interpreter": {
   "hash": "5a17c79b23b1b73daa3a91e87bc721932c5c19aa5106d620c8ff34674916aa4a"
  },
  "kernelspec": {
   "display_name": "Python 3.9.7 ('base')",
   "language": "python",
   "name": "python3"
  },
  "language_info": {
   "codemirror_mode": {
    "name": "ipython",
    "version": 3
   },
   "file_extension": ".py",
   "mimetype": "text/x-python",
   "name": "python",
   "nbconvert_exporter": "python",
   "pygments_lexer": "ipython3",
   "version": "3.9.7"
  },
  "orig_nbformat": 4
 },
 "nbformat": 4,
 "nbformat_minor": 2
}
